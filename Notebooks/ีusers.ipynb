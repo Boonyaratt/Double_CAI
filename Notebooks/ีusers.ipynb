{
 "cells": [
  {
   "cell_type": "code",
   "execution_count": 1,
   "id": "ce9b3f1e",
   "metadata": {},
   "outputs": [],
   "source": [
    "import pandas as pd\n",
    "import numpy as np\n",
    "from pathlib import Path\n",
    "from sklearn.preprocessing import StandardScaler\n",
    "from sklearn.cluster import KMeans\n",
    "from sklearn.linear_model import LogisticRegression, LinearRegression, PoissonRegressor\n",
    "from sklearn.metrics import pairwise_distances_argmin_min"
   ]
  },
  {
   "cell_type": "code",
   "execution_count": 4,
   "id": "1529298e",
   "metadata": {},
   "outputs": [],
   "source": [
    "BASE = Path(\"Datasets/mockup_ver2/\")  # เปลี่ยนเป็นโฟลเดอร์ของคุณได้\n",
    "TX_CANDIDATES = BASE/\"transactions.csv\"\n",
    "USERS_PATH = BASE/\"users.csv\""
   ]
  },
  {
   "cell_type": "code",
   "execution_count": 3,
   "id": "6cbd115d",
   "metadata": {},
   "outputs": [],
   "source": [
    "SEED = 42\n",
    "np.random.seed(SEED)"
   ]
  },
  {
   "cell_type": "code",
   "execution_count": 10,
   "id": "597a6702",
   "metadata": {},
   "outputs": [],
   "source": [
    "tx = pd.read_csv(TX_CANDIDATES)\n",
    "tx[\"timestamp\"] = pd.to_datetime(tx[\"timestamp\"],format=\"%d/%m/%Y %H:%M\" )"
   ]
  },
  {
   "cell_type": "code",
   "execution_count": null,
   "id": "e9dbed0a",
   "metadata": {},
   "outputs": [],
   "source": []
  }
 ],
 "metadata": {
  "kernelspec": {
   "display_name": "Python 3",
   "language": "python",
   "name": "python3"
  },
  "language_info": {
   "codemirror_mode": {
    "name": "ipython",
    "version": 3
   },
   "file_extension": ".py",
   "mimetype": "text/x-python",
   "name": "python",
   "nbconvert_exporter": "python",
   "pygments_lexer": "ipython3",
   "version": "3.12.6"
  }
 },
 "nbformat": 4,
 "nbformat_minor": 5
}
