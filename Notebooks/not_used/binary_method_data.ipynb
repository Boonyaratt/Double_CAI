{
 "cells": [
  {
   "cell_type": "code",
   "execution_count": 146,
   "id": "aff49945",
   "metadata": {},
   "outputs": [],
   "source": [
    "import pandas as pd\n",
    "import numpy as np\n",
    "import math"
   ]
  },
  {
   "cell_type": "code",
   "execution_count": 147,
   "id": "048492f4",
   "metadata": {},
   "outputs": [
    {
     "name": "stdout",
     "output_type": "stream",
     "text": [
      "Current working dir: e:\\Double-CAI\\Notebooks\n"
     ]
    }
   ],
   "source": [
    "import os\n",
    "print(\"Current working dir:\", os.getcwd())\n"
   ]
  },
  {
   "cell_type": "code",
   "execution_count": 148,
   "id": "c8a6b24b",
   "metadata": {},
   "outputs": [],
   "source": [
    "path = \"Datasets/mockup_ver2/\"\n",
    "\n",
    "products = pd.read_csv(path + \"products.csv\")\n",
    "promotions = pd.read_csv(path + \"promotions.csv\")\n",
    "transactions = pd.read_csv(path + \"transactions.csv\")\n",
    "promotion_transactions = pd.read_csv(path + \"promotion_transactions.csv\")\n",
    "stores = pd.read_csv(path + \"stores.csv\")\n",
    "users = pd.read_csv(path + \"users.csv\")\n"
   ]
  },
  {
   "cell_type": "markdown",
   "id": "8f68cc22",
   "metadata": {},
   "source": [
    "#### Data info"
   ]
  },
  {
   "cell_type": "code",
   "execution_count": 149,
   "id": "739cbfe0",
   "metadata": {},
   "outputs": [
    {
     "name": "stdout",
     "output_type": "stream",
     "text": [
      "<class 'pandas.core.frame.DataFrame'>\n",
      "RangeIndex: 1000 entries, 0 to 999\n",
      "Data columns (total 4 columns):\n",
      " #   Column      Non-Null Count  Dtype \n",
      "---  ------      --------------  ----- \n",
      " 0   product_id  1000 non-null   object\n",
      " 1   category    1000 non-null   object\n",
      " 2   brand       1000 non-null   object\n",
      " 3   base_price  1000 non-null   int64 \n",
      "dtypes: int64(1), object(3)\n",
      "memory usage: 31.4+ KB\n"
     ]
    }
   ],
   "source": [
    "products.info()"
   ]
  },
  {
   "cell_type": "code",
   "execution_count": 150,
   "id": "09b1f3a0",
   "metadata": {},
   "outputs": [
    {
     "name": "stdout",
     "output_type": "stream",
     "text": [
      "<class 'pandas.core.frame.DataFrame'>\n",
      "RangeIndex: 100 entries, 0 to 99\n",
      "Data columns (total 6 columns):\n",
      " #   Column      Non-Null Count  Dtype \n",
      "---  ------      --------------  ----- \n",
      " 0   promo_id    100 non-null    object\n",
      " 1   promo_type  100 non-null    object\n",
      " 2   product_id  100 non-null    object\n",
      " 3   discount    100 non-null    int64 \n",
      " 4   start_date  100 non-null    object\n",
      " 5   end_date    100 non-null    object\n",
      "dtypes: int64(1), object(5)\n",
      "memory usage: 4.8+ KB\n"
     ]
    }
   ],
   "source": [
    "promotions.info()"
   ]
  },
  {
   "cell_type": "code",
   "execution_count": 151,
   "id": "2d032467",
   "metadata": {},
   "outputs": [
    {
     "name": "stdout",
     "output_type": "stream",
     "text": [
      "<class 'pandas.core.frame.DataFrame'>\n",
      "RangeIndex: 14102 entries, 0 to 14101\n",
      "Data columns (total 7 columns):\n",
      " #   Column          Non-Null Count  Dtype \n",
      "---  ------          --------------  ----- \n",
      " 0   transaction_id  14102 non-null  object\n",
      " 1   user_id         14102 non-null  object\n",
      " 2   product_id      14102 non-null  object\n",
      " 3   qty             14102 non-null  int64 \n",
      " 4   price           14102 non-null  int64 \n",
      " 5   timestamp       14102 non-null  object\n",
      " 6   store_id        14102 non-null  object\n",
      "dtypes: int64(2), object(5)\n",
      "memory usage: 771.3+ KB\n"
     ]
    }
   ],
   "source": [
    "transactions.info()"
   ]
  },
  {
   "cell_type": "code",
   "execution_count": 152,
   "id": "703ba93d",
   "metadata": {},
   "outputs": [
    {
     "name": "stdout",
     "output_type": "stream",
     "text": [
      "<class 'pandas.core.frame.DataFrame'>\n",
      "RangeIndex: 5974 entries, 0 to 5973\n",
      "Data columns (total 9 columns):\n",
      " #   Column          Non-Null Count  Dtype \n",
      "---  ------          --------------  ----- \n",
      " 0   transaction_id  5974 non-null   object\n",
      " 1   user_id         5974 non-null   object\n",
      " 2   product_id      5974 non-null   object\n",
      " 3   qty             5974 non-null   int64 \n",
      " 4   price           5974 non-null   int64 \n",
      " 5   timestamp       5974 non-null   object\n",
      " 6   is_online       5974 non-null   bool  \n",
      " 7   store_id        5076 non-null   object\n",
      " 8   promo_id        5974 non-null   object\n",
      "dtypes: bool(1), int64(2), object(6)\n",
      "memory usage: 379.3+ KB\n"
     ]
    }
   ],
   "source": [
    "promotion_transactions.info()"
   ]
  },
  {
   "cell_type": "code",
   "execution_count": 153,
   "id": "520ac2c9",
   "metadata": {},
   "outputs": [
    {
     "name": "stdout",
     "output_type": "stream",
     "text": [
      "<class 'pandas.core.frame.DataFrame'>\n",
      "RangeIndex: 50 entries, 0 to 49\n",
      "Data columns (total 4 columns):\n",
      " #   Column    Non-Null Count  Dtype \n",
      "---  ------    --------------  ----- \n",
      " 0   store_id  50 non-null     object\n",
      " 1   zone      50 non-null     int64 \n",
      " 2   province  50 non-null     object\n",
      " 3   profile   50 non-null     object\n",
      "dtypes: int64(1), object(3)\n",
      "memory usage: 1.7+ KB\n"
     ]
    }
   ],
   "source": [
    "stores.info()"
   ]
  },
  {
   "cell_type": "markdown",
   "id": "017463f3",
   "metadata": {},
   "source": [
    "## Merge\n"
   ]
  },
  {
   "cell_type": "code",
   "execution_count": 154,
   "id": "7c60d559",
   "metadata": {},
   "outputs": [],
   "source": [
    "tx_base = (transactions\n",
    "           .merge(products, on=\"product_id\", how=\"left\", validate=\"many_to_one\")\n",
    "           .merge(stores,   on=\"store_id\",   how=\"left\", validate=\"many_to_one\"))\n",
    "tx_base[\"promo_id_used\"] = pd.NA\n",
    "# ถ้าไม่มี is_online ใน TX ให้เติมด้วย False (หรือกฎธุรกิจของคุณ)\n",
    "if \"is_online\" not in tx_base.columns:\n",
    "    tx_base[\"is_online\"] = False"
   ]
  },
  {
   "cell_type": "code",
   "execution_count": 155,
   "id": "c5dc767d",
   "metadata": {},
   "outputs": [],
   "source": [
    "pm_base = (promotion_transactions\n",
    "           .merge(products, on=\"product_id\", how=\"left\", validate=\"many_to_one\")\n",
    "           .merge(stores,   on=\"store_id\",   how=\"left\", validate=\"many_to_one\")\n",
    "            .rename(columns={\"promo_id\": \"promo_id_used\"}))\n",
    "\n",
    "if \"is_online\" not in pm_base.columns:\n",
    "    pm_base[\"is_online\"] = False\n",
    "\n",
    "# ---- เตรียม promotions สำหรับ join แบบ product-level (ไม่แตะเวลา) ----\n",
    "promos_prod = promotions.rename(columns={\"product_id\": \"product_id_y\"})\n",
    "keep_promo_cols = [\"promo_id\",\"promo_type\",\"product_id_y\",\"discount\"]\n",
    "# เก็บ start/end ถ้าอยากดูภายหลัง แต่จะไม่ใช้กรอง\n",
    "if \"start_date\" in promotions.columns: keep_promo_cols.append(\"start_date\")\n",
    "if \"end_date\"   in promotions.columns: keep_promo_cols.append(\"end_date\")\n",
    "promos_prod = promos_prod[keep_promo_cols]"
   ]
  },
  {
   "cell_type": "code",
   "execution_count": 156,
   "id": "738a5a3a",
   "metadata": {},
   "outputs": [],
   "source": [
    "cand_tx = tx_base.merge(promos_prod, left_on=\"product_id\", right_on=\"product_id_y\",\n",
    "                        how=\"left\", validate=\"many_to_many\")\n",
    "cand_tx[\"target\"] = 0\n",
    "\n",
    "# ---- Candidate PMTX: match product_id ตรง (ไม่กรองเวลา) ----\n",
    "cand_pm = pm_base.merge(promos_prod, left_on=\"product_id\", right_on=\"product_id_y\",\n",
    "                        how=\"left\", validate=\"many_to_many\")\n",
    "cand_pm[\"target\"] = (cand_pm[\"promo_id\"] == cand_pm[\"promo_id_used\"]).astype(int)"
   ]
  },
  {
   "cell_type": "code",
   "execution_count": 157,
   "id": "faee1a5c",
   "metadata": {},
   "outputs": [
    {
     "name": "stderr",
     "output_type": "stream",
     "text": [
      "C:\\Users\\User\\AppData\\Local\\Temp\\ipykernel_18096\\2775794970.py:8: FutureWarning: Setting an item of incompatible dtype is deprecated and will raise an error in a future version of pandas. Value '['Online' 'Online' 'Online' 'Online' 'Online' 'Online' 'Online' 'Online'\n",
      " 'Online' 'Online' 'Online' 'Online' 'Online' 'Online' 'Online' 'Online'\n",
      " 'Online' 'Online' 'Online' 'Online' 'Online' 'Online' 'Online' 'Online'\n",
      " 'Online' 'Online' 'Online' 'Online' 'Online' 'Online' 'Online' 'Online'\n",
      " 'Online' 'Online' 'Online' 'Online' 'Online' 'Online' 'Online' 'Online'\n",
      " 'Online' 'Online' 'Online' 'Online' 'Online' 'Online' 'Online' 'Online'\n",
      " 'Online' 'Online' 'Online' 'Online' 'Online' 'Online' 'Online' 'Online'\n",
      " 'Online' 'Online' 'Online' 'Online' 'Online' 'Online' 'Online' 'Online'\n",
      " 'Online' 'Online' 'Online' 'Online' 'Online' 'Online' 'Online' 'Online'\n",
      " 'Online' 'Online' 'Online' 'Online' 'Online' 'Online' 'Online' 'Online'\n",
      " 'Online' 'Online' 'Online' 'Online' 'Online' 'Online' 'Online' 'Online'\n",
      " 'Online' 'Online' 'Online' 'Online' 'Online' 'Online' 'Online' 'Online'\n",
      " 'Online' 'Online' 'Online' 'Online' 'Online' 'Online' 'Online' 'Online'\n",
      " 'Online' 'Online' 'Online' 'Online' 'Online' 'Online' 'Online' 'Online'\n",
      " 'Online' 'Online' 'Online' 'Online' 'Online' 'Online' 'Online' 'Online'\n",
      " 'Online' 'Online' 'Online' 'Online' 'Online' 'Online' 'Online' 'Online'\n",
      " 'Online' 'Online' 'Online' 'Online' 'Online' 'Online' 'Online' 'Online'\n",
      " 'Online' 'Online' 'Online' 'Online' 'Online' 'Online' 'Online' 'Online'\n",
      " 'Online' 'Online' 'Online' 'Online' 'Online' 'Online' 'Online' 'Online'\n",
      " 'Online' 'Online' 'Online' 'Online' 'Online' 'Online' 'Online' 'Online'\n",
      " 'Online' 'Online' 'Online' 'Online' 'Online' 'Online' 'Online' 'Online'\n",
      " 'Online' 'Online' 'Online' 'Online' 'Online' 'Online' 'Online' 'Online'\n",
      " 'Online' 'Online' 'Online' 'Online' 'Online' 'Online' 'Online' 'Online'\n",
      " 'Online' 'Online' 'Online' 'Online' 'Online' 'Online' 'Online' 'Online'\n",
      " 'Online' 'Online' 'Online' 'Online' 'Online' 'Online' 'Online' 'Online'\n",
      " 'Online' 'Online' 'Online' 'Online' 'Online' 'Online' 'Online' 'Online'\n",
      " 'Online' 'Online' 'Online' 'Online' 'Online' 'Online' 'Online' 'Online'\n",
      " 'Online' 'Online' 'Online' 'Online' 'Online' 'Online' 'Online' 'Online'\n",
      " 'Online' 'Online' 'Online' 'Online' 'Online' 'Online' 'Online' 'Online'\n",
      " 'Online' 'Online' 'Online' 'Online' 'Online' 'Online' 'Online' 'Online'\n",
      " 'Online' 'Online' 'Online' 'Online' 'Online' 'Online' 'Online' 'Online'\n",
      " 'Online' 'Online' 'Online' 'Online' 'Online' 'Online' 'Online' 'Online'\n",
      " 'Online' 'Online' 'Online' 'Online' 'Online' 'Online' 'Online' 'Online'\n",
      " 'Online' 'Online' 'Online' 'Online' 'Online' 'Online' 'Online' 'Online'\n",
      " 'Online' 'Online' 'Online' 'Online' 'Online' 'Online' 'Online' 'Online'\n",
      " 'Online' 'Online' 'Online' 'Online' 'Online' 'Online' 'Online' 'Online'\n",
      " 'Online' 'Online' 'Online' 'Online' 'Online' 'Online' 'Online' 'Online'\n",
      " 'Online' 'Online' 'Online' 'Online' 'Online' 'Online' 'Online' 'Online'\n",
      " 'Online' 'Online' 'Online' 'Online' 'Online' 'Online' 'Online' 'Online'\n",
      " 'Online' 'Online' 'Online' 'Online' 'Online' 'Online' 'Online' 'Online'\n",
      " 'Online' 'Online' 'Online' 'Online' 'Online' 'Online' 'Online' 'Online'\n",
      " 'Online' 'Online' 'Online' 'Online' 'Online' 'Online' 'Online' 'Online'\n",
      " 'Online' 'Online' 'Online' 'Online' 'Online' 'Online' 'Online' 'Online'\n",
      " 'Online' 'Online' 'Online' 'Online' 'Online' 'Online' 'Online' 'Online'\n",
      " 'Online' 'Online' 'Online' 'Online' 'Online' 'Online' 'Online' 'Online'\n",
      " 'Online' 'Online' 'Online' 'Online' 'Online' 'Online' 'Online' 'Online'\n",
      " 'Online' 'Online' 'Online' 'Online' 'Online' 'Online' 'Online' 'Online'\n",
      " 'Online' 'Online' 'Online' 'Online' 'Online' 'Online' 'Online' 'Online'\n",
      " 'Online' 'Online' 'Online' 'Online' 'Online' 'Online' 'Online' 'Online'\n",
      " 'Online' 'Online' 'Online' 'Online' 'Online' 'Online' 'Online' 'Online'\n",
      " 'Online' 'Online' 'Online' 'Online' 'Online' 'Online' 'Online' 'Online'\n",
      " 'Online' 'Online' 'Online' 'Online' 'Online' 'Online' 'Online' 'Online'\n",
      " 'Online' 'Online' 'Online' 'Online' 'Online' 'Online' 'Online' 'Online'\n",
      " 'Online' 'Online' 'Online' 'Online' 'Online' 'Online' 'Online' 'Online'\n",
      " 'Online' 'Online' 'Online' 'Online' 'Online' 'Online' 'Online' 'Online'\n",
      " 'Online' 'Online' 'Online' 'Online' 'Online' 'Online' 'Online' 'Online'\n",
      " 'Online' 'Online' 'Online' 'Online' 'Online' 'Online' 'Online' 'Online'\n",
      " 'Online' 'Online' 'Online' 'Online' 'Online' 'Online' 'Online' 'Online'\n",
      " 'Online' 'Online' 'Online' 'Online' 'Online' 'Online' 'Online' 'Online'\n",
      " 'Online' 'Online' 'Online' 'Online' 'Online' 'Online' 'Online' 'Online'\n",
      " 'Online' 'Online' 'Online' 'Online' 'Online' 'Online' 'Online' 'Online'\n",
      " 'Online' 'Online' 'Online' 'Online' 'Online' 'Online' 'Online' 'Online'\n",
      " 'Online' 'Online' 'Online' 'Online' 'Online' 'Online' 'Online' 'Online'\n",
      " 'Online' 'Online' 'Online' 'Online' 'Online' 'Online' 'Online' 'Online'\n",
      " 'Online' 'Online' 'Online' 'Online' 'Online' 'Online' 'Online' 'Online'\n",
      " 'Online' 'Online' 'Online' 'Online' 'Online' 'Online' 'Online' 'Online'\n",
      " 'Online' 'Online' 'Online' 'Online' 'Online' 'Online' 'Online' 'Online'\n",
      " 'Online' 'Online' 'Online' 'Online' 'Online' 'Online' 'Online' 'Online'\n",
      " 'Online' 'Online' 'Online' 'Online' 'Online' 'Online' 'Online' 'Online'\n",
      " 'Online' 'Online' 'Online' 'Online' 'Online' 'Online' 'Online' 'Online'\n",
      " 'Online' 'Online' 'Online' 'Online' 'Online' 'Online' 'Online' 'Online'\n",
      " 'Online' 'Online' 'Online' 'Online' 'Online' 'Online' 'Online' 'Online'\n",
      " 'Online' 'Online' 'Online' 'Online' 'Online' 'Online' 'Online' 'Online'\n",
      " 'Online' 'Online' 'Online' 'Online' 'Online' 'Online' 'Online' 'Online'\n",
      " 'Online' 'Online' 'Online' 'Online' 'Online' 'Online' 'Online' 'Online'\n",
      " 'Online' 'Online' 'Online' 'Online' 'Online' 'Online' 'Online' 'Online'\n",
      " 'Online' 'Online' 'Online' 'Online' 'Online' 'Online' 'Online' 'Online'\n",
      " 'Online' 'Online' 'Online' 'Online' 'Online' 'Online' 'Online' 'Online'\n",
      " 'Online' 'Online' 'Online' 'Online' 'Online' 'Online' 'Online' 'Online'\n",
      " 'Online' 'Online' 'Online' 'Online' 'Online' 'Online' 'Online' 'Online'\n",
      " 'Online' 'Online' 'Online' 'Online' 'Online' 'Online' 'Online' 'Online'\n",
      " 'Online' 'Online' 'Online' 'Online' 'Online' 'Online' 'Online' 'Online'\n",
      " 'Online' 'Online' 'Online' 'Online' 'Online' 'Online' 'Online' 'Online'\n",
      " 'Online' 'Online' 'Online' 'Online' 'Online' 'Online' 'Online' 'Online'\n",
      " 'Online' 'Online' 'Online' 'Online' 'Online' 'Online' 'Online' 'Online'\n",
      " 'Online' 'Online' 'Online' 'Online' 'Online' 'Online' 'Online' 'Online'\n",
      " 'Online' 'Online' 'Online' 'Online' 'Online' 'Online' 'Online' 'Online'\n",
      " 'Online' 'Online' 'Online' 'Online' 'Online' 'Online' 'Online' 'Online'\n",
      " 'Online' 'Online' 'Online' 'Online' 'Online' 'Online' 'Online' 'Online'\n",
      " 'Online' 'Online' 'Online' 'Online' 'Online' 'Online' 'Online' 'Online'\n",
      " 'Online' 'Online' 'Online' 'Online' 'Online' 'Online' 'Online' 'Online'\n",
      " 'Online' 'Online' 'Online' 'Online' 'Online' 'Online' 'Online' 'Online'\n",
      " 'Online' 'Online' 'Online' 'Online' 'Online' 'Online' 'Online' 'Online'\n",
      " 'Online' 'Online' 'Online' 'Online' 'Online' 'Online' 'Online' 'Online'\n",
      " 'Online' 'Online' 'Online' 'Online' 'Online' 'Online' 'Online' 'Online'\n",
      " 'Online' 'Online' 'Online' 'Online' 'Online' 'Online' 'Online' 'Online'\n",
      " 'Online' 'Online' 'Online' 'Online' 'Online' 'Online' 'Online' 'Online'\n",
      " 'Online' 'Online' 'Online' 'Online' 'Online' 'Online' 'Online' 'Online'\n",
      " 'Online' 'Online' 'Online' 'Online' 'Online' 'Online' 'Online' 'Online'\n",
      " 'Online' 'Online' 'Online' 'Online' 'Online' 'Online' 'Online' 'Online'\n",
      " 'Online' 'Online' 'Online' 'Online' 'Online' 'Online' 'Online' 'Online'\n",
      " 'Online' 'Online' 'Online' 'Online' 'Online' 'Online' 'Online' 'Online'\n",
      " 'Online' 'Online' 'Online' 'Online' 'Online' 'Online' 'Online' 'Online'\n",
      " 'Online' 'Online' 'Online' 'Online' 'Online' 'Online' 'Online' 'Online'\n",
      " 'Online' 'Online' 'Online' 'Online' 'Online' 'Online' 'Online' 'Online'\n",
      " 'Online' 'Online' 'Online' 'Online' 'Online' 'Online' 'Online' 'Online'\n",
      " 'Online' 'Online' 'Online' 'Online' 'Online' 'Online' 'Online' 'Online'\n",
      " 'Online' 'Online' 'Online' 'Online' 'Online' 'Online' 'Online' 'Online'\n",
      " 'Online' 'Online' 'Online' 'Online' 'Online' 'Online' 'Online' 'Online'\n",
      " 'Online' 'Online' 'Online' 'Online' 'Online' 'Online' 'Online' 'Online'\n",
      " 'Online' 'Online' 'Online' 'Online' 'Online' 'Online' 'Online' 'Online'\n",
      " 'Online' 'Online' 'Online' 'Online' 'Online' 'Online' 'Online' 'Online'\n",
      " 'Online' 'Online']' has dtype incompatible with float64, please explicitly cast to a compatible dtype first.\n",
      "  df.loc[online_mask, col] = df.loc[online_mask, col].fillna(val)\n"
     ]
    }
   ],
   "source": [
    "def finalize_cols(df):\n",
    "    df = df.copy()\n",
    "    df[\"product_id_x\"] = df[\"product_id\"]  # ฝั่งธุรกรรม\n",
    "    # zone/province/profile ว่างเมื่อ is_online=True\n",
    "    online_mask = df.get(\"is_online\", False) == True\n",
    "    for col, val in [(\"zone\",\"Online\"), (\"province\",\"Online\"), (\"profile\",\"Online\")]:\n",
    "        if col in df.columns:\n",
    "            df.loc[online_mask, col] = df.loc[online_mask, col].fillna(val)\n",
    "    cols = [\n",
    "        \"transaction_id\",\"user_id\",\"product_id_x\",\"qty\",\"price\",\"timestamp\",\"store_id\",\n",
    "        \"is_online\",\n",
    "        \"promo_id\",\"category\",\"brand\",\"base_price\",\"zone\",\"province\",\"profile\",\n",
    "        \"promo_type\",\"product_id_y\",\"discount\",\n",
    "        # เก็บ start/end ไว้ดูเฉย ๆ ถ้ามี แต่ไม่ใช้งานกรอง\n",
    "    ]\n",
    "    if \"start_date\" in df.columns: cols.append(\"start_date\")\n",
    "    if \"end_date\"   in df.columns: cols.append(\"end_date\")\n",
    "    cols += [\"promo_id_used\",\"target\"]\n",
    "    return df[cols]\n",
    "\n",
    "\n",
    "cand_tx = finalize_cols(cand_tx)\n",
    "cand_pm = finalize_cols(cand_pm)"
   ]
  },
  {
   "cell_type": "code",
   "execution_count": 158,
   "id": "34e6e449",
   "metadata": {},
   "outputs": [],
   "source": [
    "binary_per_candidate = (pd.concat([cand_tx, cand_pm], ignore_index=True)\n",
    "                        .drop_duplicates(subset=[\"transaction_id\",\"promo_id\"], keep=\"first\")\n",
    "                        .sort_values([\"transaction_id\",\"promo_id\"])\n",
    "                        .reset_index(drop=True))"
   ]
  },
  {
   "cell_type": "code",
   "execution_count": 159,
   "id": "65d32b68",
   "metadata": {},
   "outputs": [
    {
     "name": "stdout",
     "output_type": "stream",
     "text": [
      "<class 'pandas.core.frame.DataFrame'>\n",
      "RangeIndex: 20076 entries, 0 to 20075\n",
      "Data columns (total 22 columns):\n",
      " #   Column          Non-Null Count  Dtype  \n",
      "---  ------          --------------  -----  \n",
      " 0   transaction_id  20076 non-null  object \n",
      " 1   user_id         20076 non-null  object \n",
      " 2   product_id_x    20076 non-null  object \n",
      " 3   qty             20076 non-null  int64  \n",
      " 4   price           20076 non-null  int64  \n",
      " 5   timestamp       20076 non-null  object \n",
      " 6   store_id        19178 non-null  object \n",
      " 7   is_online       20076 non-null  bool   \n",
      " 8   promo_id        7400 non-null   object \n",
      " 9   category        20076 non-null  object \n",
      " 10  brand           20076 non-null  object \n",
      " 11  base_price      20076 non-null  int64  \n",
      " 12  zone            20076 non-null  object \n",
      " 13  province        20076 non-null  object \n",
      " 14  profile         20076 non-null  object \n",
      " 15  promo_type      7400 non-null   object \n",
      " 16  product_id_y    7400 non-null   object \n",
      " 17  discount        7400 non-null   float64\n",
      " 18  start_date      7400 non-null   object \n",
      " 19  end_date        7400 non-null   object \n",
      " 20  promo_id_used   5974 non-null   object \n",
      " 21  target          20076 non-null  int64  \n",
      "dtypes: bool(1), float64(1), int64(4), object(16)\n",
      "memory usage: 3.2+ MB\n"
     ]
    }
   ],
   "source": [
    "binary_per_candidate.info()"
   ]
  },
  {
   "cell_type": "code",
   "execution_count": 161,
   "id": "2a85e4bd",
   "metadata": {},
   "outputs": [],
   "source": [
    "binary_per_candidate.to_csv(\"Datasets/mockup_ver2/binary_per_candidate.csv\", index=False)"
   ]
  },
  {
   "cell_type": "code",
   "execution_count": 162,
   "id": "1096eb5a",
   "metadata": {},
   "outputs": [],
   "source": [
    "view = binary_per_candidate.sort_values(\n",
    "    by=[\"transaction_id\", \"target\"], \n",
    "    ascending=[True, False]  # transaction_id จากน้อย→มาก, target=1 มาก่อน\n",
    ").reset_index(drop=True)\n",
    "\n",
    "view.to_csv(\"Datasets/mockup_ver2/binary_per_candidate_sorted.csv\", index=False)"
   ]
  }
 ],
 "metadata": {
  "kernelspec": {
   "display_name": "Python 3",
   "language": "python",
   "name": "python3"
  },
  "language_info": {
   "codemirror_mode": {
    "name": "ipython",
    "version": 3
   },
   "file_extension": ".py",
   "mimetype": "text/x-python",
   "name": "python",
   "nbconvert_exporter": "python",
   "pygments_lexer": "ipython3",
   "version": "3.12.6"
  }
 },
 "nbformat": 4,
 "nbformat_minor": 5
}
