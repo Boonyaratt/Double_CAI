{
 "cells": [
  {
   "cell_type": "code",
   "execution_count": 3,
   "id": "b35ba833",
   "metadata": {},
   "outputs": [],
   "source": [
    "import pandas as pd\n",
    "import numpy as np\n",
    "from pathlib import Path\n"
   ]
  },
  {
   "cell_type": "code",
   "execution_count": 10,
   "id": "ad9eb58a",
   "metadata": {},
   "outputs": [],
   "source": [
    "BASE = Path(\"Datasets/mockup_ver2/\")\n",
    "IN_PATH  = BASE / \"stores.csv\"\n",
    "OUT_PATH = BASE / \"stores_with_patterns.csv\""
   ]
  },
  {
   "cell_type": "code",
   "execution_count": 7,
   "id": "bc227c93",
   "metadata": {},
   "outputs": [],
   "source": [
    "PROFILE_PRESETS = {\n",
    "    \"Gas Station\":             {\"peaks\": [(7,9), (17,21)], \"weekday_boost\": 1.00, \"weekend_boost\": 1.05, \"festival_boost\": 1.05},\n",
    "    \"Educational Institution\": {\"peaks\": [(7,9), (11,13), (15,17)], \"weekday_boost\": 1.05, \"weekend_boost\": 0.90, \"festival_boost\": 1.00},\n",
    "    \"Hospital\":                {\"peaks\": [(6,9), (12,14), (18,21)], \"weekday_boost\": 1.00, \"weekend_boost\": 1.00, \"festival_boost\": 1.00},\n",
    "    \"Entertainment Venue\":     {\"peaks\": [(18,24), (0,2)], \"weekday_boost\": 0.95, \"weekend_boost\": 1.10, \"festival_boost\": 1.10},\n",
    "    \"Office\":                  {\"peaks\": [(7,9), (12,14), (17,19)], \"weekday_boost\": 1.10, \"weekend_boost\": 0.85, \"festival_boost\": 0.95},\n",
    "    \"Residential\":             {\"peaks\": [(7,9), (17,21)], \"weekday_boost\": 0.98, \"weekend_boost\": 1.05, \"festival_boost\": 1.05},\n",
    "    \"Tourist Spot\":            {\"peaks\": [(10,12), (17,21)], \"weekday_boost\": 1.00, \"weekend_boost\": 1.10, \"festival_boost\": 1.15},\n",
    "    \"Transport Hub\":           {\"peaks\": [(6,9), (17,20)], \"weekday_boost\": 1.05, \"weekend_boost\": 1.00, \"festival_boost\": 1.05},\n",
    "    \"Factory\":                 {\"peaks\": [(5,7), (11,12), (17,18)], \"weekday_boost\": 1.10, \"weekend_boost\": 0.90, \"festival_boost\": 0.95},\n",
    "    \"Market\":                  {\"peaks\": [(6,9), (16,19)], \"weekday_boost\": 0.98, \"weekend_boost\": 1.08, \"festival_boost\": 1.10},\n",
    "}\n",
    "DEFAULT_PRESET = {\"peaks\": [(11,13), (17,20)], \"weekday_boost\": 1.00, \"weekend_boost\": 1.02, \"festival_boost\": 1.00}\n",
    "\n",
    "# ========= FUNCTIONS =========\n",
    "def normalize_store_columns(df: pd.DataFrame) -> pd.DataFrame:\n",
    "    colmap = {}\n",
    "    for c in df.columns:\n",
    "        cl = c.strip().lower()\n",
    "        if cl in [\"store_id\", \"branch_id\", \"shop_id\"]:\n",
    "            colmap[c] = \"store_id\"\n",
    "        elif cl in [\"profile\", \"stores.profile\", \"store_profile\", \"branch_profile\"]:\n",
    "            colmap[c] = \"profile\"\n",
    "    if colmap:\n",
    "        df = df.rename(columns=colmap)\n",
    "    if \"store_id\" not in df.columns or \"profile\" not in df.columns:\n",
    "        raise ValueError(\"ต้องมีคอลัมน์ store_id และ profile (รองรับชื่อ branch_id/branch_profile แล้วรีเนมให้)\")\n",
    "    df[\"store_id\"] = df[\"store_id\"].astype(str).str.strip()\n",
    "    df[\"profile\"]  = df[\"profile\"].astype(str).str.strip()\n",
    "    return df\n",
    "\n",
    "def hour_weights_from_peaks(peaks):\n",
    "    \"\"\"\n",
    "    รับช่วงพีคเป็นลิสต์ของทูเพิล [(start_hour, end_hour), ...]\n",
    "    ใช้ครึ่งเปิด [start, end) เช่น (11,13) = 11:00-12:59\n",
    "    คืนอาร์เรย์ขนาด 24 ชม. normalized ให้ค่าเฉลี่ย ~ 1\n",
    "    \"\"\"\n",
    "    w = np.ones(24, dtype=float)\n",
    "    for s, e in peaks:\n",
    "        if e >= s:\n",
    "            hours = range(s, e)\n",
    "        else:\n",
    "            # ช่วงข้ามเที่ยงคืน\n",
    "            hours = list(range(s, 24)) + list(range(0, e))\n",
    "        for h in hours:\n",
    "            w[h] += 0.5  # uplift เบื้องต้นต่อชั่วโมงพีค\n",
    "    w = w / w.mean()\n",
    "    return w\n",
    "\n",
    "def encode_peaks(peaks):\n",
    "    return \";\".join([f\"{s:02d}-{e:02d}\" for s, e in peaks])\n"
   ]
  },
  {
   "cell_type": "code",
   "execution_count": 11,
   "id": "75137308",
   "metadata": {},
   "outputs": [
    {
     "name": "stdout",
     "output_type": "stream",
     "text": [
      "Saved -> Datasets\\mockup_ver2\\stores_with_patterns.csv\n"
     ]
    }
   ],
   "source": [
    "def main():\n",
    "    stores = pd.read_csv(IN_PATH)\n",
    "    stores = normalize_store_columns(stores)\n",
    "\n",
    "    # สร้างคอลัมน์ใหม่สำหรับพีคและบูสต์\n",
    "    stores[\"peaks_encoded\"]  = \"\"\n",
    "    stores[\"weekday_boost\"]  = np.nan\n",
    "    stores[\"weekend_boost\"]  = np.nan\n",
    "    stores[\"festival_boost\"] = np.nan\n",
    "\n",
    "    # เตรียมชื่อคอลัมน์น้ำหนักรายชั่วโมง\n",
    "    hour_cols = [f\"hour_w_{h:02d}\" for h in range(24)]\n",
    "    for hc in hour_cols:\n",
    "        stores[hc] = np.nan\n",
    "\n",
    "    # เติมค่าตามโปรไฟล์\n",
    "    for i, row in stores.iterrows():\n",
    "        prof = str(row[\"profile\"])\n",
    "        preset = PROFILE_PRESETS.get(prof, DEFAULT_PRESET)\n",
    "\n",
    "        # บันทึก preset summary\n",
    "        stores.at[i, \"peaks_encoded\"]  = encode_peaks(preset[\"peaks\"])\n",
    "        stores.at[i, \"weekday_boost\"]  = float(preset[\"weekday_boost\"])\n",
    "        stores.at[i, \"weekend_boost\"]  = float(preset[\"weekend_boost\"])\n",
    "        stores.at[i, \"festival_boost\"] = float(preset[\"festival_boost\"])\n",
    "\n",
    "        # คำนวณน้ำหนักรายชั่วโมง\n",
    "        w = hour_weights_from_peaks(preset[\"peaks\"])\n",
    "        for h in range(24):\n",
    "            stores.at[i, f\"hour_w_{h:02d}\"] = float(w[h])\n",
    "\n",
    "    # เซฟผลลัพธ์\n",
    "    stores.to_csv(OUT_PATH, index=False)\n",
    "    print(f\"Saved -> {OUT_PATH}\")\n",
    "\n",
    "if __name__ == \"__main__\":\n",
    "    main()"
   ]
  }
 ],
 "metadata": {
  "kernelspec": {
   "display_name": "Python 3",
   "language": "python",
   "name": "python3"
  },
  "language_info": {
   "codemirror_mode": {
    "name": "ipython",
    "version": 3
   },
   "file_extension": ".py",
   "mimetype": "text/x-python",
   "name": "python",
   "nbconvert_exporter": "python",
   "pygments_lexer": "ipython3",
   "version": "3.12.6"
  }
 },
 "nbformat": 4,
 "nbformat_minor": 5
}
