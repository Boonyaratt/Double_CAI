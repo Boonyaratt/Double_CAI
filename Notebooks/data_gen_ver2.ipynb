{
 "cells": [
  {
   "cell_type": "markdown",
   "id": "a40522a1",
   "metadata": {},
   "source": [
    "#Dataset Mockup Generate"
   ]
  },
  {
   "cell_type": "markdown",
   "id": "0d4a5d9e",
   "metadata": {},
   "source": [
    "### Imports & Config"
   ]
  },
  {
   "cell_type": "code",
   "execution_count": 1,
   "id": "173335af",
   "metadata": {},
   "outputs": [],
   "source": [
    "import numpy as np\n",
    "import pandas as pd\n",
    "from datetime import datetime, timedelta\n",
    "from zoneinfo import ZoneInfo\n",
    "import random\n",
    "from pathlib import Path"
   ]
  },
  {
   "cell_type": "code",
   "execution_count": 2,
   "id": "d3e52080",
   "metadata": {},
   "outputs": [],
   "source": [
    "RANDOM_SEED = 42\n",
    "np.random.seed(RANDOM_SEED)\n",
    "random.seed(RANDOM_SEED)"
   ]
  },
  {
   "cell_type": "code",
   "execution_count": 12,
   "id": "a98ac732",
   "metadata": {},
   "outputs": [],
   "source": [
    "TZ = ZoneInfo(\"Asia/Bangkok\")\n",
    "START_DT = datetime(2025, 6, 25, 0, 0, tzinfo=TZ)\n",
    "END_DT   = datetime(2025, 9, 23, 23, 59, tzinfo=TZ)\n",
    "\n",
    "OUT_DIR = Path(\"./Datasets/mockup_ver2\")\n",
    "OUT_DIR.mkdir(parents=True, exist_ok=True)\n",
    "\n",
    "def fmt_ts(dt: datetime) -> str:\n",
    "    return dt.strftime(\"%d/%m/%Y %H:%M\")"
   ]
  },
  {
   "cell_type": "markdown",
   "id": "fe21a790",
   "metadata": {},
   "source": [
    "### Static Master Data: Users, Products, Stores"
   ]
  },
  {
   "cell_type": "markdown",
   "id": "7c16384c",
   "metadata": {},
   "source": [
    "#### User"
   ]
  },
  {
   "cell_type": "code",
   "execution_count": 5,
   "id": "79ac65ed",
   "metadata": {},
   "outputs": [
    {
     "data": {
      "text/plain": [
       "(  user_id\n",
       " 0   U0001\n",
       " 1   U0002\n",
       " 2   U0003\n",
       " 3   U0004\n",
       " 4   U0005,\n",
       " (1000, 1))"
      ]
     },
     "execution_count": 5,
     "metadata": {},
     "output_type": "execute_result"
    }
   ],
   "source": [
    "N_USERS = 1000\n",
    "users = pd.DataFrame({\n",
    "    \"user_id\": [f\"U{idx:04d}\" for idx in range(1, N_USERS+1)]\n",
    "})\n",
    "users.head(), users.shape\n"
   ]
  },
  {
   "cell_type": "markdown",
   "id": "171a08a3",
   "metadata": {},
   "source": [
    "#### Products"
   ]
  },
  {
   "cell_type": "code",
   "execution_count": 22,
   "id": "77d330d7",
   "metadata": {},
   "outputs": [
    {
     "data": {
      "text/plain": [
       "(  product_id      category      brand  base_price\n",
       " 0      P0001  PersonalCare  Brand_002         191\n",
       " 1      P0002  HealthBeauty  Brand_030         191\n",
       " 2      P0003        Snacks  Brand_005          41\n",
       " 3      P0004     Beverages  Brand_032          58\n",
       " 4      P0005   DairyBakery  Brand_034          54,\n",
       " (1000, 4))"
      ]
     },
     "execution_count": 22,
     "metadata": {},
     "output_type": "execute_result"
    }
   ],
   "source": [
    "N_PRODUCTS = 1000\n",
    "CATEGORIES = [\n",
    "    \"Beverages\",\"Snacks\",\"InstantFoods\",\"DairyBakery\",\"FrozenFoods\",\n",
    "    \"HealthBeauty\",\"Household\",\"PersonalCare\",\"ReadyToEat\",\"Others\"\n",
    "]\n",
    "N_BRANDS = 50\n",
    "BRANDS = [f\"Brand_{i:03d}\" for i in range(1, N_BRANDS+1)]\n",
    "\n",
    "# Base price ranges by category (THB) – feel free to tweak\n",
    "cat_price_ranges = {\n",
    "    \"Beverages\": (20, 80),\n",
    "    \"Snacks\": (15, 60),\n",
    "    \"InstantFoods\": (25, 120),\n",
    "    \"DairyBakery\": (25, 120),\n",
    "    \"FrozenFoods\": (40, 180),\n",
    "    \"HealthBeauty\": (40, 200),\n",
    "    \"Household\": (30, 200),\n",
    "    \"PersonalCare\": (30, 200),\n",
    "    \"ReadyToEat\": (40, 150),\n",
    "    \"Others\": (20, 300),\n",
    "}\n",
    "\n",
    "prod_cats  = np.random.choice(CATEGORIES, size=N_PRODUCTS, replace=True)\n",
    "prod_brands= np.random.choice(BRANDS, size=N_PRODUCTS, replace=True)\n",
    "\n",
    "base_prices = []\n",
    "for c in prod_cats:\n",
    "    lo, hi = cat_price_ranges[c]\n",
    "    base_prices.append(int(round(np.random.uniform(lo, hi))))\n",
    "\n",
    "\n",
    "products = pd.DataFrame({\n",
    "    \"product_id\": [f\"P{idx:04d}\" for idx in range(1, N_PRODUCTS+1)],\n",
    "    \"category\": prod_cats,\n",
    "    \"brand\": prod_brands,\n",
    "    \"base_price\": base_prices\n",
    "})\n",
    "products.head(), products.shape\n"
   ]
  },
  {
   "cell_type": "markdown",
   "id": "96bde315",
   "metadata": {},
   "source": [
    "#### Store"
   ]
  },
  {
   "cell_type": "code",
   "execution_count": 23,
   "id": "fac9a32b",
   "metadata": {},
   "outputs": [
    {
     "data": {
      "text/plain": [
       "(  store_id  zone      province              profile\n",
       " 0     S001     3  สุราษฎร์ธานี   Residential/Market\n",
       " 1     S002     5  สุราษฎร์ธานี             Hospital\n",
       " 2     S003    10      กรุงเทพฯ          Gas Station\n",
       " 3     S004     8  สุราษฎร์ธานี  Entertainment Venue\n",
       " 4     S005    10        ภูเก็ต   Tourist Attraction,\n",
       " (50, 4))"
      ]
     },
     "execution_count": 23,
     "metadata": {},
     "output_type": "execute_result"
    }
   ],
   "source": [
    "N_STORES = 50\n",
    "ZONES = list(range(1, 13))  # 1..12\n",
    "PROVINCES = [\n",
    "    \"กรุงเทพฯ\",\"เชียงใหม่\",\"ขอนแก่น\",\"นครราชสีมา\",\"ชลบุรี\",\n",
    "    \"ภูเก็ต\",\"สุราษฎร์ธานี\",\"อุบลราชธานี\",\"สงขลา\",\"นนทบุรี\"\n",
    "]\n",
    "PROFILES = [\n",
    "    \"Residential/Market\",\"Educational Institution\",\"Office\",\"Gas Station\",\n",
    "    \"Factory\",\"Hospital\",\"Tourist Attraction\",\"Entertainment Venue\",\"Transport Hub\"\n",
    "]\n",
    "\n",
    "stores = pd.DataFrame({\n",
    "    \"store_id\": [f\"S{idx:03d}\" for idx in range(1, N_STORES+1)],\n",
    "    \"zone\": np.random.choice(ZONES, size=N_STORES, replace=True),\n",
    "    \"province\": np.random.choice(PROVINCES, size=N_STORES, replace=True),\n",
    "    \"profile\": np.random.choice(PROFILES, size=N_STORES, replace=True),\n",
    "})\n",
    "stores.head(), stores.shape\n"
   ]
  },
  {
   "cell_type": "markdown",
   "id": "1cfe735c",
   "metadata": {},
   "source": [
    "#### Promotions"
   ]
  },
  {
   "cell_type": "code",
   "execution_count": 24,
   "id": "2f9db4a9",
   "metadata": {},
   "outputs": [
    {
     "data": {
      "text/plain": [
       "(  promo_id      promo_type product_id  discount        start_date  \\\n",
       " 0   PR0001  Product_Coupon      P0790        19  23/08/2025 21:09   \n",
       " 1   PR0002       Mega Sale      P0277        31  13/07/2025 21:07   \n",
       " 2   PR0003  Product_Coupon      P0441        25  04/08/2025 01:41   \n",
       " 3   PR0004       Mega Sale      P0640        18  22/08/2025 15:31   \n",
       " 4   PR0005     Buy 1 get 1      P0291       100  13/07/2025 09:56   \n",
       " \n",
       "            end_date  \n",
       " 0  31/08/2025 21:09  \n",
       " 1  19/08/2025 21:07  \n",
       " 2  11/09/2025 01:41  \n",
       " 3  04/09/2025 15:31  \n",
       " 4  23/08/2025 09:56  ,\n",
       " (100, 6))"
      ]
     },
     "execution_count": 24,
     "metadata": {},
     "output_type": "execute_result"
    }
   ],
   "source": [
    "N_PROMOS = 100\n",
    "PROMO_TYPES = [\"Flash Sale\",\"Buy 1 get 1\",\"Brandday\",\"Mega Sale\",\"Product_Coupon\"]\n",
    "\n",
    "# pick 100 unique products for promotions (1 promotion = 1 product)\n",
    "promo_products = np.random.choice(products[\"product_id\"], size=N_PROMOS, replace=False)\n",
    "\n",
    "# discount rules:\n",
    "# - For non-B1G1 types: choose int 10..50\n",
    "# - For \"Buy 1 get 1\": store 100 (interpreted as effective 50% when qty>=2, else 0%)\n",
    "def sample_discount(ptype: str) -> int:\n",
    "    if ptype == \"Buy 1 get 1\":\n",
    "        return 100\n",
    "    return int(np.random.choice(range(10, 51)))  # 10..50\n",
    "\n",
    "def rand_dt_between(a: datetime, b: datetime) -> datetime:\n",
    "    # Uniform random datetime between a and b (inclusive of a, exclusive near b)\n",
    "    delta = (b - a).total_seconds()\n",
    "    r = np.random.uniform(0, max(delta, 1))\n",
    "    return a + timedelta(seconds=r)\n",
    "\n",
    "promo_rows = []\n",
    "for i in range(N_PROMOS):\n",
    "    promo_id = f\"PR{i+1:04d}\"\n",
    "    ptype = np.random.choice(PROMO_TYPES)\n",
    "    disc  = sample_discount(ptype)\n",
    "    \n",
    "    # decide short or long window\n",
    "    if np.random.rand() < 0.5:\n",
    "        # short 7-14 days\n",
    "        length_days = np.random.randint(7, 15)\n",
    "    else:\n",
    "        # long 30-60 days\n",
    "        length_days = np.random.randint(30, 61)\n",
    "    \n",
    "    # choose start so that end within global window\n",
    "    latest_start = END_DT - timedelta(days=length_days)\n",
    "    start_dt = rand_dt_between(START_DT, latest_start)\n",
    "    end_dt   = start_dt + timedelta(days=length_days)\n",
    "    # clamp end_dt to END_DT (rare case)\n",
    "    if end_dt > END_DT:\n",
    "        end_dt = END_DT\n",
    "\n",
    "    promo_rows.append({\n",
    "        \"promo_id\": promo_id,\n",
    "        \"promo_type\": ptype,\n",
    "        \"product_id\": promo_products[i],\n",
    "        \"discount\": disc,\n",
    "        \"start_date\": fmt_ts(start_dt),\n",
    "        \"end_date\": fmt_ts(end_dt),\n",
    "        # keep raw datetimes for sampling later (not saved to CSV)\n",
    "        \"_start_raw\": start_dt,\n",
    "        \"_end_raw\": end_dt,\n",
    "    })\n",
    "\n",
    "promotions = pd.DataFrame(promo_rows)\n",
    "\n",
    "# Keep a fast lookup for promo windows and product mapping\n",
    "promo_dict = promotions.set_index(\"promo_id\")[[\"promo_type\",\"product_id\",\"discount\",\"_start_raw\",\"_end_raw\"]].to_dict(\"index\")\n",
    "\n",
    "promotions_display = promotions.drop(columns=[\"_start_raw\",\"_end_raw\"]).copy()\n",
    "promotions_display.head(), promotions_display.shape\n"
   ]
  },
  {
   "cell_type": "markdown",
   "id": "7a2ba590",
   "metadata": {},
   "source": [
    "### Helper\n"
   ]
  },
  {
   "cell_type": "code",
   "execution_count": 25,
   "id": "e09f0632",
   "metadata": {},
   "outputs": [],
   "source": [
    "def sample_day_uniform(start_dt: datetime, end_dt: datetime) -> datetime:\n",
    "    \"\"\"Pick a day uniformly, then pick a time within that day uniformly.\"\"\"\n",
    "    # sample a day index\n",
    "    n_days = (end_dt.date() - start_dt.date()).days + 1\n",
    "    day_offset = np.random.randint(0, n_days)\n",
    "    day = (start_dt.date() + timedelta(days=day_offset))\n",
    "    # sample a time in [00:00, 23:59]\n",
    "    hh = np.random.randint(0, 24)\n",
    "    mm = np.random.randint(0, 60)\n",
    "    # combine with timezone\n",
    "    dt = datetime(day.year, day.month, day.day, hh, mm, tzinfo=TZ)\n",
    "    # ensure within bounds\n",
    "    if dt < start_dt: dt = start_dt\n",
    "    if dt > end_dt:   dt = end_dt\n",
    "    return dt\n",
    "\n",
    "def sample_ts_global() -> datetime:\n",
    "    return sample_day_uniform(START_DT, END_DT)\n",
    "\n",
    "def sample_ts_in_window(a: datetime, b: datetime) -> datetime:\n",
    "    \"\"\"Uniform by day+time within [a..b].\"\"\"\n",
    "    if b < a:\n",
    "        a, b = b, a\n",
    "    return sample_day_uniform(a, b)\n",
    "\n",
    "def nonpromo_price(base_price: float, qty: int) -> int:\n",
    "    noise = np.random.uniform(0.95, 1.10)\n",
    "    return int(round(base_price * qty * noise))\n",
    "\n",
    "def promo_price(ptype: str, discount_pct: int, base_price: float, qty: int) -> int:\n",
    "    base = base_price * qty\n",
    "    if ptype == \"Buy 1 get 1\":\n",
    "        eff_pct = 50 if qty >= 2 else 0\n",
    "    else:\n",
    "        eff_pct = discount_pct\n",
    "    after_disc = base * (1 - eff_pct/100.0)\n",
    "    noise = np.random.uniform(0.97, 1.03)\n",
    "    return int(round(after_disc * noise))\n"
   ]
  },
  {
   "cell_type": "markdown",
   "id": "c46e5c96",
   "metadata": {},
   "source": [
    "### Generate Transactions"
   ]
  },
  {
   "cell_type": "code",
   "execution_count": 26,
   "id": "4c0d65dd",
   "metadata": {},
   "outputs": [
    {
     "data": {
      "text/plain": [
       "(14102, 5974)"
      ]
     },
     "execution_count": 26,
     "metadata": {},
     "output_type": "execute_result"
    }
   ],
   "source": [
    "TX_records = []\n",
    "PMTX_records = []\n",
    "\n",
    "# ID counters\n",
    "tx_counter = 1\n",
    "pmtx_counter = 1\n",
    "\n",
    "# For efficient base_price lookup\n",
    "prod2base = products.set_index(\"product_id\")[\"base_price\"].to_dict()\n",
    "\n",
    "# For sampling promos quickly (uniform over promo_id)\n",
    "all_promo_ids = promotions[\"promo_id\"].tolist()\n",
    "\n",
    "for uid in users[\"user_id\"]:\n",
    "    total_bills = np.random.randint(10, 31)  # 10..30\n",
    "    p_promo = np.clip(np.random.normal(loc=0.30, scale=0.08), 0.10, 0.50)\n",
    "    n_promo = int(round(total_bills * p_promo))\n",
    "    n_nonpromo = total_bills - n_promo\n",
    "\n",
    "    # --- Non-promo bills ---\n",
    "    for _ in range(n_nonpromo):\n",
    "        product_id = np.random.choice(products[\"product_id\"])\n",
    "        qty = int(np.random.randint(1, 6))\n",
    "        base_price = prod2base[product_id]\n",
    "        price = nonpromo_price(base_price, qty)\n",
    "        ts = sample_ts_global()\n",
    "        store_id = np.random.choice(stores[\"store_id\"])\n",
    "        TX_records.append({\n",
    "            \"transaction_id\": f\"TX{tx_counter:07d}\",\n",
    "            \"user_id\": uid,\n",
    "            \"product_id\": product_id,\n",
    "            \"qty\": qty,\n",
    "            \"price\": price,\n",
    "            \"timestamp\": fmt_ts(ts),\n",
    "            \"store_id\": store_id\n",
    "        })\n",
    "        tx_counter += 1\n",
    "\n",
    "    # --- Promo bills ---\n",
    "    for _ in range(n_promo):\n",
    "        # pick a promo\n",
    "        promo_id = np.random.choice(all_promo_ids)\n",
    "        pinfo = promo_dict[promo_id]\n",
    "        ptype = pinfo[\"promo_type\"]\n",
    "        pprod = pinfo[\"product_id\"]\n",
    "        pdisc = pinfo[\"discount\"]\n",
    "        pstart = pinfo[\"_start_raw\"]\n",
    "        pend   = pinfo[\"_end_raw\"]\n",
    "\n",
    "        # product & qty from promo's product\n",
    "        product_id = pprod\n",
    "        qty = int(np.random.randint(1, 6))\n",
    "        base_price = prod2base[product_id]\n",
    "\n",
    "        # timestamp within promo window but also within global window (they overlap by construction)\n",
    "        ts = sample_ts_in_window(max(START_DT, pstart), min(END_DT, pend))\n",
    "\n",
    "        # channel\n",
    "        is_online = bool(np.random.rand() < 0.15)  # 15% online\n",
    "        store_id = None if is_online else np.random.choice(stores[\"store_id\"])\n",
    "\n",
    "        price = promo_price(ptype, pdisc, base_price, qty)\n",
    "\n",
    "        PMTX_records.append({\n",
    "            \"transaction_id\": f\"PMTX{pmtx_counter:07d}\",\n",
    "            \"user_id\": uid,\n",
    "            \"product_id\": product_id,  # added for real training/analysis\n",
    "            \"qty\": qty,                # added\n",
    "            \"price\": price,            # net price after discount\n",
    "            \"timestamp\": fmt_ts(ts),\n",
    "            \"is_online\": is_online,\n",
    "            \"store_id\": store_id,\n",
    "            \"promo_id\": promo_id\n",
    "        })\n",
    "        pmtx_counter += 1\n",
    "\n",
    "len(TX_records), len(PMTX_records)"
   ]
  },
  {
   "cell_type": "markdown",
   "id": "5e4376dd",
   "metadata": {},
   "source": [
    "### Build Df"
   ]
  },
  {
   "cell_type": "code",
   "execution_count": 27,
   "id": "42e95bb4",
   "metadata": {},
   "outputs": [
    {
     "data": {
      "text/plain": [
       "(  transaction_id user_id product_id  qty  price         timestamp store_id\n",
       " 0      TX0000001   U0001      P0189    4    371  15/08/2025 10:33     S020\n",
       " 1      TX0000002   U0001      P0110    5    311  01/08/2025 09:09     S018\n",
       " 2      TX0000003   U0001      P0056    5    718  25/08/2025 13:00     S047\n",
       " 3      TX0000004   U0001      P0426    5    383  02/08/2025 07:49     S027\n",
       " 4      TX0000005   U0001      P0957    3    914  30/08/2025 01:21     S036,\n",
       "   transaction_id user_id product_id  qty  price         timestamp  is_online  \\\n",
       " 0    PMTX0000001   U0001      P0650    5    266  28/07/2025 09:14      False   \n",
       " 1    PMTX0000002   U0001      P0269    4     87  18/09/2025 02:11      False   \n",
       " 2    PMTX0000003   U0001      P0259    3    172  19/08/2025 23:34      False   \n",
       " 3    PMTX0000004   U0001      P0812    5    389  11/09/2025 14:48      False   \n",
       " 4    PMTX0000005   U0001      P0079    3    248  22/08/2025 21:42      False   \n",
       " \n",
       "   store_id promo_id  \n",
       " 0     S028   PR0030  \n",
       " 1     S023   PR0039  \n",
       " 2     S029   PR0074  \n",
       " 3     S049   PR0079  \n",
       " 4     S012   PR0059  ,\n",
       "   promo_id      promo_type product_id  discount        start_date  \\\n",
       " 0   PR0001  Product_Coupon      P0790        19  23/08/2025 21:09   \n",
       " 1   PR0002       Mega Sale      P0277        31  13/07/2025 21:07   \n",
       " 2   PR0003  Product_Coupon      P0441        25  04/08/2025 01:41   \n",
       " 3   PR0004       Mega Sale      P0640        18  22/08/2025 15:31   \n",
       " 4   PR0005     Buy 1 get 1      P0291       100  13/07/2025 09:56   \n",
       " \n",
       "            end_date  \n",
       " 0  31/08/2025 21:09  \n",
       " 1  19/08/2025 21:07  \n",
       " 2  11/09/2025 01:41  \n",
       " 3  04/09/2025 15:31  \n",
       " 4  23/08/2025 09:56  )"
      ]
     },
     "execution_count": 27,
     "metadata": {},
     "output_type": "execute_result"
    }
   ],
   "source": [
    "transactions = pd.DataFrame(TX_records, columns=[\n",
    "    \"transaction_id\",\"user_id\",\"product_id\",\"qty\",\"price\",\"timestamp\",\"store_id\"\n",
    "])\n",
    "\n",
    "promotion_transactions = pd.DataFrame(PMTX_records, columns=[\n",
    "    \"transaction_id\",\"user_id\",\"product_id\",\"qty\",\"price\",\"timestamp\",\"is_online\",\"store_id\",\"promo_id\"\n",
    "])\n",
    "\n",
    "# Final promotions view (drop raw datetime helpers)\n",
    "promotions_final = promotions_display.copy()\n",
    "\n",
    "transactions.head(), promotion_transactions.head(), promotions_final.head()\n"
   ]
  },
  {
   "cell_type": "code",
   "execution_count": 28,
   "id": "fb2bbf68",
   "metadata": {},
   "outputs": [
    {
     "name": "stdout",
     "output_type": "stream",
     "text": [
      "Saved to: E:\\Double-CAI\\Notebooks\\Datasets\\mockup_ver2\n"
     ]
    }
   ],
   "source": [
    "users.to_csv(OUT_DIR / \"users.csv\", index=False, encoding=\"utf-8-sig\")\n",
    "products.to_csv(OUT_DIR / \"products.csv\", index=False, encoding=\"utf-8-sig\")\n",
    "stores.to_csv(OUT_DIR / \"stores.csv\", index=False, encoding=\"utf-8-sig\")\n",
    "promotions_final.to_csv(OUT_DIR / \"promotions.csv\", index=False, encoding=\"utf-8-sig\")\n",
    "transactions.to_csv(OUT_DIR / \"transactions.csv\", index=False, encoding=\"utf-8-sig\")\n",
    "promotion_transactions.to_csv(OUT_DIR / \"promotion_transactions.csv\", index=False, encoding=\"utf-8-sig\")\n",
    "\n",
    "print(\"Saved to:\", OUT_DIR.resolve())"
   ]
  }
 ],
 "metadata": {
  "kernelspec": {
   "display_name": "Python 3",
   "language": "python",
   "name": "python3"
  },
  "language_info": {
   "codemirror_mode": {
    "name": "ipython",
    "version": 3
   },
   "file_extension": ".py",
   "mimetype": "text/x-python",
   "name": "python",
   "nbconvert_exporter": "python",
   "pygments_lexer": "ipython3",
   "version": "3.12.6"
  }
 },
 "nbformat": 4,
 "nbformat_minor": 5
}
